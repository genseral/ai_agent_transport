{
 "cells": [
  {
   "cell_type": "code",
   "execution_count": 0,
   "metadata": {
    "application/vnd.databricks.v1+cell": {
     "cellMetadata": {
      "byteLimit": 2048000,
      "rowLimit": 10000
     },
     "inputWidgets": {},
     "nuid": "ce798934-65d3-41f6-94da-6d372b99358f",
     "showTitle": false,
     "tableResultSettingsMap": {},
     "title": ""
    }
   },
   "outputs": [],
   "source": [
    "%pip install databricks_langchain"
   ]
  },
  {
   "cell_type": "code",
   "execution_count": 0,
   "metadata": {
    "application/vnd.databricks.v1+cell": {
     "cellMetadata": {
      "byteLimit": 2048000,
      "implicitDf": true,
      "rowLimit": 10000
     },
     "inputWidgets": {},
     "nuid": "d6403ccf-f22d-4a3f-b318-b7fd03efcfc8",
     "showTitle": false,
     "tableResultSettingsMap": {},
     "title": ""
    }
   },
   "outputs": [],
   "source": [
    "%sql\n",
    "CREATE OR REPLACE FUNCTION alexander_genser.default.get_train_stations(search_location STRING, location_lat FLOAT, location_lon FLOAT)\n",
    "\n",
    "RETURNS STRING COMMENT \"Returns SBB stations\"\n",
    "\n",
    "LANGUAGE PYTHON\n",
    "\n",
    "AS $$\n",
    "import requests\n",
    "\n",
    "url = \"GET http://transport.opendata.ch/v1/locations\"\n",
    "params = {\n",
    "    \"query\": search_location,\n",
    "    \"x\": location_lat,\n",
    "    \"y\": location_lon,\n",
    "     \"type\": 'station' \n",
    "}\n",
    "\n",
    "response = requests.get(url, params=params)\n",
    "\n",
    "if response.status_code == 200:\n",
    "   station_details = response.json()\n",
    "   return station_details\n",
    "else:\n",
    "   return f\"Failed to retrieve connection. Status code: {response.status_code}\"\n",
    "$$;"
   ]
  },
  {
   "cell_type": "code",
   "execution_count": 0,
   "metadata": {
    "application/vnd.databricks.v1+cell": {
     "cellMetadata": {
      "byteLimit": 2048000,
      "implicitDf": true,
      "rowLimit": 10000
     },
     "inputWidgets": {},
     "nuid": "2a536fbe-1bbd-4d57-8591-dcb123f61230",
     "showTitle": false,
     "tableResultSettingsMap": {},
     "title": ""
    }
   },
   "outputs": [],
   "source": [
    "%sql\n",
    "CREATE OR REPLACE FUNCTION alexander_genser.default.get_next_connection(from_station STRING, to_station STRING)\n",
    "\n",
    "RETURNS STRING COMMENT \"Returns next connection\"\n",
    "\n",
    "LANGUAGE PYTHON\n",
    "\n",
    "AS $$\n",
    "import requests\n",
    "\n",
    "url = \"http://transport.opendata.ch/v1/connections\"\n",
    "\n",
    "params = {\n",
    "    \"from\": from_station,\n",
    "    \"to\": to_station,\n",
    "}\n",
    "\n",
    "response = requests.get(url, params=params)\n",
    "\n",
    "if response.status_code == 200:\n",
    "   next_connection = response.json()\n",
    "   return next_connection['connections']\n",
    "else:\n",
    "   return f\"Failed to retrieve connection. Status code: {response.status_code}\"\n",
    "$$;"
   ]
  },
  {
   "cell_type": "code",
   "execution_count": 0,
   "metadata": {
    "application/vnd.databricks.v1+cell": {
     "cellMetadata": {
      "byteLimit": 2048000,
      "implicitDf": true,
      "rowLimit": 10000
     },
     "inputWidgets": {},
     "nuid": "53754c99-9cbb-4d46-acc0-7f77834fb2f9",
     "showTitle": false,
     "tableResultSettingsMap": {},
     "title": ""
    }
   },
   "outputs": [],
   "source": [
    "%sql\n",
    "CREATE OR REPLACE FUNCTION alexander_genser.default.get_station_board(station STRING)\n",
    "\n",
    "RETURNS STRING COMMENT \"Returns station board\"\n",
    "\n",
    "LANGUAGE PYTHON\n",
    "\n",
    "AS $$\n",
    "import requests\n",
    "\n",
    "url = \"http://transport.opendata.ch/v1/stationboard\"\n",
    "params = {\n",
    "    \"station\": station,\n",
    "    \"limit\": 10\n",
    "}\n",
    "\n",
    "response = requests.get(url, params=params)\n",
    "\n",
    "if response.status_code == 200:\n",
    "  station_board  = response.json()\n",
    "  return station_board\n",
    "else:\n",
    "   return f\"Failed to retrieve connection. Status code: {response.status_code}\"\n",
    "\n",
    "$$;"
   ]
  },
  {
   "cell_type": "code",
   "execution_count": 0,
   "metadata": {
    "application/vnd.databricks.v1+cell": {
     "cellMetadata": {
      "byteLimit": 2048000,
      "rowLimit": 10000
     },
     "inputWidgets": {},
     "nuid": "77e6a3a3-7592-43cc-851a-90b1ba72ec87",
     "showTitle": false,
     "tableResultSettingsMap": {},
     "title": ""
    }
   },
   "outputs": [],
   "source": [
    "from databricks_langchain.uc_ai import (\n",
    "    DatabricksFunctionClient,\n",
    "    UCFunctionToolkit,\n",
    "    set_uc_function_client,\n",
    ")\n",
    "import pandas as pd\n",
    "\n",
    "def display_tools(tools):\n",
    "    display(pd.DataFrame([{k: str(v) for k, v in vars(tool).items()} for tool in tools]))\n",
    "\n",
    "client = DatabricksFunctionClient()\n",
    "set_uc_function_client(client)\n",
    "\n",
    "#warehouse_id = \"7ddb43212ab91b53\"\n",
    "tools = UCFunctionToolkit(\n",
    "    function_names=[\"alexander_genser.default.*\"]\n",
    ").tools"
   ]
  },
  {
   "cell_type": "code",
   "execution_count": 0,
   "metadata": {
    "application/vnd.databricks.v1+cell": {
     "cellMetadata": {
      "byteLimit": 2048000,
      "rowLimit": 10000
     },
     "inputWidgets": {},
     "nuid": "f558f2a6-e5e9-4c02-9b76-fb4a3d52ce04",
     "showTitle": false,
     "tableResultSettingsMap": {},
     "title": ""
    }
   },
   "outputs": [],
   "source": [
    "from langchain.agents import AgentExecutor, create_tool_calling_agent\n",
    "from langchain_core.prompts import ChatPromptTemplate\n",
    "from langchain_community.chat_models import ChatDatabricks\n",
    "\n",
    "\n",
    "# Utilize a Foundational Model API via ChatDatabricks \n",
    "llm = ChatDatabricks(endpoint=\"databricks-meta-llama-3-1-70b-instruct\")\n",
    "\n",
    "\n",
    "# Define the prompt for the model, note the description to use the tools\n",
    "prompt = ChatPromptTemplate.from_messages(\n",
    "    [(\n",
    "        \"system\",\n",
    "        \"You are a helpful assistant for helping clients plan their train journey. Make sure to use the available tools for information retrieval. Refer the tools description and make a decision of the tools to call for each user query.\",\n",
    "        ),\n",
    "        (\"placeholder\", \"{chat_history}\"),\n",
    "        (\"placeholder\", \"{chat_history}\"),\n",
    "        (\"human\", \"{input}\"),\n",
    "        (\"placeholder\", \"{agent_scratchpad}\"),\n",
    "    ]\n",
    ")"
   ]
  },
  {
   "cell_type": "code",
   "execution_count": 0,
   "metadata": {
    "application/vnd.databricks.v1+cell": {
     "cellMetadata": {
      "byteLimit": 2048000,
      "rowLimit": 10000
     },
     "inputWidgets": {},
     "nuid": "9ec75d4c-b97a-4508-bbf4-5e51d72af3d8",
     "showTitle": false,
     "tableResultSettingsMap": {},
     "title": ""
    }
   },
   "outputs": [],
   "source": [
    "from langchain.agents import AgentExecutor, create_tool_calling_agent\n",
    "\n",
    "\n",
    "agent = create_tool_calling_agent(llm, tools, prompt)\n",
    "agent_executor = AgentExecutor(agent=agent, tools=tools, verbose=True)"
   ]
  },
  {
   "cell_type": "code",
   "execution_count": 0,
   "metadata": {
    "application/vnd.databricks.v1+cell": {
     "cellMetadata": {
      "byteLimit": 2048000,
      "rowLimit": 10000
     },
     "inputWidgets": {},
     "nuid": "722b085b-183f-4e30-b0a1-62690e8c1536",
     "showTitle": false,
     "tableResultSettingsMap": {},
     "title": ""
    }
   },
   "outputs": [],
   "source": [
    "agent_executor.invoke({\"input\": \"plan me a journey from Zurich to Bern\"})"
   ]
  }
 ],
 "metadata": {
  "application/vnd.databricks.v1+notebook": {
   "computePreferences": null,
   "dashboards": [],
   "environmentMetadata": {
    "base_environment": "",
    "environment_version": "2"
   },
   "language": "python",
   "notebookMetadata": {
    "mostRecentlyExecutedCommandWithImplicitDF": {
     "commandId": 951504923381151,
     "dataframes": [
      "_sqldf"
     ]
    },
    "pythonIndentUnit": 2
   },
   "notebookName": "test_python_data_source_api",
   "widgets": {}
  },
  "language_info": {
   "name": "python"
  }
 },
 "nbformat": 4,
 "nbformat_minor": 0
}
