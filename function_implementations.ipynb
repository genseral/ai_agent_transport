{
 "cells": [
  {
   "cell_type": "code",
   "execution_count": 0,
   "metadata": {
    "application/vnd.databricks.v1+cell": {
     "cellMetadata": {
      "byteLimit": 2048000,
      "implicitDf": true,
      "rowLimit": 10000
     },
     "inputWidgets": {},
     "nuid": "96209d54-2c39-475e-aae2-76ce82d42af7",
     "showTitle": false,
     "tableResultSettingsMap": {},
     "title": ""
    }
   },
   "outputs": [],
   "source": [
    "%sql\n",
    "CREATE OR REPLACE FUNCTION alexander_genser.train_agent.get_connections(from_station STRING, to_station STRING, via_station STRING)\n",
    "\n",
    "RETURNS STRING COMMENT \"Returns next connection\"\n",
    "\n",
    "LANGUAGE PYTHON\n",
    "\n",
    "AS $$\n",
    "import requests\n",
    "\n",
    "url = \"http://transport.opendata.ch/v1/connections\"\n",
    "\n",
    "params = {\n",
    "    \"from\": from_station,\n",
    "    \"to\": to_station,\n",
    "    \"via\": via_station,\n",
    "    \"transportations\" : \"train\"\n",
    "}\n",
    "\n",
    "response = requests.get(url, params=params)\n",
    "\n",
    "if response.status_code == 200:\n",
    "   next_connection = response.json()\n",
    "   return next_connection['connections']\n",
    "else:\n",
    "   return f\"Failed to retrieve connection. Status code: {response.status_code}\"\n",
    "$$;"
   ]
  },
  {
   "cell_type": "code",
   "execution_count": 0,
   "metadata": {
    "application/vnd.databricks.v1+cell": {
     "cellMetadata": {
      "byteLimit": 2048000,
      "implicitDf": true,
      "rowLimit": 10000
     },
     "inputWidgets": {},
     "nuid": "9ef00c9a-d483-40fe-8f46-2d5447aed23b",
     "showTitle": false,
     "tableResultSettingsMap": {},
     "title": ""
    }
   },
   "outputs": [],
   "source": [
    "%sql\n",
    "CREATE OR REPLACE FUNCTION alexander_genser.train_agent.get_station_board(station STRING, arrival_or_departure STRING)\n",
    "\n",
    "RETURNS STRING COMMENT \"Returns station board\"\n",
    "\n",
    "LANGUAGE PYTHON\n",
    "\n",
    "AS $$\n",
    "import requests\n",
    "\n",
    "url = \"http://transport.opendata.ch/v1/stationboard\"\n",
    "params = {\n",
    "    \"station\": station,\n",
    "    \"type\" : arrival_or_departure,\n",
    "    \"limit\": 15,\n",
    "    \"transportions\" : \"train\"\n",
    "}\n",
    "\n",
    "response = requests.get(url, params=params)\n",
    "\n",
    "if response.status_code == 200:\n",
    "  station_board  = response.json()\n",
    "  return station_board\n",
    "else:\n",
    "   return f\"Failed to retrieve connection. Status code: {response.status_code}\"\n",
    "\n",
    "$$;"
   ]
  }
 ],
 "metadata": {
  "application/vnd.databricks.v1+notebook": {
   "computePreferences": null,
   "dashboards": [],
   "environmentMetadata": {
    "base_environment": "",
    "environment_version": "2"
   },
   "language": "python",
   "notebookMetadata": {
    "mostRecentlyExecutedCommandWithImplicitDF": {
     "commandId": 3987948637886691,
     "dataframes": [
      "_sqldf"
     ]
    },
    "pythonIndentUnit": 2
   },
   "notebookName": "function_implementations",
   "widgets": {}
  },
  "language_info": {
   "name": "python"
  }
 },
 "nbformat": 4,
 "nbformat_minor": 0
}
