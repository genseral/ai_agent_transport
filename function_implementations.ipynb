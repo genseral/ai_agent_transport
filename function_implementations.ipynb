{
 "cells": [
  {
   "cell_type": "code",
   "execution_count": 0,
   "metadata": {
    "application/vnd.databricks.v1+cell": {
     "cellMetadata": {
      "byteLimit": 2048000,
      "implicitDf": true,
      "rowLimit": 10000
     },
     "inputWidgets": {},
     "nuid": "892b0db2-c8fc-48fd-b321-653d13238fda",
     "showTitle": false,
     "tableResultSettingsMap": {},
     "title": ""
    }
   },
   "outputs": [],
   "source": [
    "%sql\n",
    "CREATE CATALOG IF NOT EXISTS travel_agents;\n",
    "CREATE SCHEMA IF NOT EXISTS train_agent;"
   ]
  },
  {
   "cell_type": "code",
   "execution_count": 0,
   "metadata": {
    "application/vnd.databricks.v1+cell": {
     "cellMetadata": {
      "byteLimit": 2048000,
      "implicitDf": true,
      "rowLimit": 10000
     },
     "inputWidgets": {},
     "nuid": "96209d54-2c39-475e-aae2-76ce82d42af7",
     "showTitle": false,
     "tableResultSettingsMap": {},
     "title": ""
    }
   },
   "outputs": [],
   "source": [
    "%sql\n",
    "CREATE OR REPLACE FUNCTION travel_agents.train_agent.get_connections(\n",
    "    from_station STRING COMMENT 'The train station of departure', \n",
    "    to_station STRING COMMENT 'The train station of arrival',\n",
    "    via_station STRING COMMENT 'The desired stops in between departure and arrival'\n",
    ")\n",
    "RETURNS STRING \n",
    "COMMENT 'Executes a call to the transport api and connections endpoint to retrieve relevant train connections given the input parameters from (departure), to (arrival), via (stops in between, if specified).'\n",
    "LANGUAGE PYTHON\n",
    "AS $$\n",
    "import requests\n",
    "\n",
    "url = \"http://transport.opendata.ch/v1/connections\"\n",
    "\n",
    "params = {\n",
    "    \"from\": from_station,\n",
    "    \"to\": to_station,\n",
    "    \"via\": via_station,\n",
    "    \"transportations\": \"train\"\n",
    "}\n",
    "\n",
    "response = requests.get(url, params=params)\n",
    "\n",
    "if response.status_code == 200:\n",
    "    next_connection = response.json()\n",
    "    return next_connection['connections']\n",
    "else:\n",
    "    return f\"Failed to retrieve connection. Status code: {response.status_code}\"\n",
    "$$;"
   ]
  },
  {
   "cell_type": "code",
   "execution_count": 0,
   "metadata": {
    "application/vnd.databricks.v1+cell": {
     "cellMetadata": {
      "byteLimit": 2048000,
      "implicitDf": true,
      "rowLimit": 10000
     },
     "inputWidgets": {},
     "nuid": "9ef00c9a-d483-40fe-8f46-2d5447aed23b",
     "showTitle": false,
     "tableResultSettingsMap": {},
     "title": ""
    }
   },
   "outputs": [],
   "source": [
    "%sql\n",
    "CREATE OR REPLACE FUNCTION travel_agents.train_agent.get_station_board(\n",
    "    station STRING COMMENT 'The train station to retrieve the station board data', \n",
    "    arrival_or_departure STRING COMMENT 'Identifier if travel connections should depict arrival or depature'\n",
    ")\n",
    "RETURNS STRING \n",
    "COMMENT \"Returns the station board data of a given train station to determine which train connections are leaving and arriving\"\n",
    "LANGUAGE PYTHON\n",
    "AS $$\n",
    "import requests\n",
    "\n",
    "url = \"http://transport.opendata.ch/v1/stationboard\"\n",
    "params = {\n",
    "    \"station\": station,\n",
    "    \"type\": arrival_or_departure,\n",
    "    \"limit\": 15,\n",
    "    \"transportions\": \"train\"\n",
    "}\n",
    "\n",
    "response = requests.get(url, params=params)\n",
    "\n",
    "if response.status_code == 200:\n",
    "    station_board = response.json()\n",
    "    return station_board\n",
    "else:\n",
    "    return f\"Failed to retrieve connection. Status code: {response.status_code}\"\n",
    "$$;"
   ]
  }
 ],
 "metadata": {
  "application/vnd.databricks.v1+notebook": {
   "computePreferences": null,
   "dashboards": [],
   "environmentMetadata": {
    "base_environment": "",
    "environment_version": "2"
   },
   "language": "python",
   "notebookMetadata": {
    "mostRecentlyExecutedCommandWithImplicitDF": {
     "commandId": 3987948637887091,
     "dataframes": [
      "_sqldf"
     ]
    },
    "pythonIndentUnit": 2
   },
   "notebookName": "function_implementations",
   "widgets": {}
  },
  "language_info": {
   "name": "python"
  }
 },
 "nbformat": 4,
 "nbformat_minor": 0
}
